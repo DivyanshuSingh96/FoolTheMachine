{
 "cells": [
  {
   "cell_type": "code",
   "execution_count": 2,
   "id": "DDBtGPqj6NKx",
   "metadata": {
    "colab": {
     "base_uri": "https://localhost:8080/"
    },
    "id": "DDBtGPqj6NKx",
    "outputId": "edb674c9-370a-46e9-b30b-0dfb95fc38bf"
   },
   "outputs": [
    {
     "name": "stdout",
     "output_type": "stream",
     "text": [
      "Collecting adversarial-robustness-toolbox\n",
      "  Downloading adversarial_robustness_toolbox-1.20.1-py3-none-any.whl.metadata (10 kB)\n",
      "Requirement already satisfied: numpy>=1.18.0 in /usr/local/lib/python3.11/dist-packages (from adversarial-robustness-toolbox) (2.0.2)\n",
      "Requirement already satisfied: scipy>=1.4.1 in /usr/local/lib/python3.11/dist-packages (from adversarial-robustness-toolbox) (1.15.3)\n",
      "Requirement already satisfied: scikit-learn>=0.22.2 in /usr/local/lib/python3.11/dist-packages (from adversarial-robustness-toolbox) (1.6.1)\n",
      "Requirement already satisfied: six in /usr/local/lib/python3.11/dist-packages (from adversarial-robustness-toolbox) (1.17.0)\n",
      "Requirement already satisfied: setuptools in /usr/local/lib/python3.11/dist-packages (from adversarial-robustness-toolbox) (75.2.0)\n",
      "Requirement already satisfied: tqdm in /usr/local/lib/python3.11/dist-packages (from adversarial-robustness-toolbox) (4.67.1)\n",
      "Requirement already satisfied: joblib>=1.2.0 in /usr/local/lib/python3.11/dist-packages (from scikit-learn>=0.22.2->adversarial-robustness-toolbox) (1.5.1)\n",
      "Requirement already satisfied: threadpoolctl>=3.1.0 in /usr/local/lib/python3.11/dist-packages (from scikit-learn>=0.22.2->adversarial-robustness-toolbox) (3.6.0)\n",
      "Downloading adversarial_robustness_toolbox-1.20.1-py3-none-any.whl (1.1 MB)\n",
      "\u001b[2K   \u001b[90m━━━━━━━━━━━━━━━━━━━━━━━━━━━━━━━━━━━━━━━━\u001b[0m \u001b[32m1.1/1.1 MB\u001b[0m \u001b[31m17.2 MB/s\u001b[0m eta \u001b[36m0:00:00\u001b[0m\n",
      "\u001b[?25hInstalling collected packages: adversarial-robustness-toolbox\n",
      "Successfully installed adversarial-robustness-toolbox-1.20.1\n"
     ]
    }
   ],
   "source": [
    "!pip install adversarial-robustness-toolbox"
   ]
  },
  {
   "cell_type": "code",
   "execution_count": 1,
   "id": "PayC_fQP6bF0",
   "metadata": {
    "colab": {
     "base_uri": "https://localhost:8080/"
    },
    "id": "PayC_fQP6bF0",
    "outputId": "bd5bbdba-83c7-41bb-8f27-6ce11e79ffef"
   },
   "outputs": [
    {
     "name": "stdout",
     "output_type": "stream",
     "text": [
      "Mounted at /content/drive\n"
     ]
    }
   ],
   "source": [
    "from google.colab import drive\n",
    "drive.mount('/content/drive')"
   ]
  },
  {
   "cell_type": "code",
   "execution_count": 3,
   "id": "15baa571-1731-4aa3-900d-90b25a05f26f",
   "metadata": {
    "id": "15baa571-1731-4aa3-900d-90b25a05f26f"
   },
   "outputs": [],
   "source": [
    "from pathlib import Path\n",
    "from PIL import Image\n",
    "\n",
    "import numpy as np\n",
    "import matplotlib.pyplot as plt\n",
    "\n",
    "import torch\n",
    "import torch.nn as nn\n",
    "import torch.optim as optim\n",
    "from torch.utils.data import Subset\n",
    "from torchvision import datasets, transforms\n",
    "\n",
    "from art.estimators.classification import PyTorchClassifier\n",
    "from art.attacks.evasion import FastGradientMethod\n",
    "from art.defences.trainer import AdversarialTrainer"
   ]
  },
  {
   "cell_type": "markdown",
   "id": "221bdc82-3bae-4ff5-a23b-d6f73e4f12cf",
   "metadata": {
    "id": "221bdc82-3bae-4ff5-a23b-d6f73e4f12cf"
   },
   "source": [
    "## 🧠 Building Brains That See – The Story of Our SimpleCNN\n",
    "\n",
    "Imagine teaching a child to recognize handwritten digits first, they look for edges, then patterns, and finally the full shape. Our CNN learns in the same way.\n",
    "\n",
    "We start with **small eyes**:  \n",
    "🔹 The first convolutional layer scans the grayscale image with 32 filters, it's like giving our model its first pair of glasses.\n",
    "\n",
    "Then, we zoom out:  \n",
    "🔹 MaxPooling cuts the view in half, helping the model focus on the *big picture*, not every pixel.\n",
    "\n",
    "Next, we make it smarter:  \n",
    "🔹 A second convolutional layer deepens its perception with 64 filters now it sees not just strokes, but combinations of them.\n",
    "\n",
    "We zoom out again:  \n",
    "🔹 Another MaxPooling layer reduces the details, keeping only what matters most.\n",
    "\n",
    "Now comes the brainy part:  \n",
    "🔹 We flatten all that spatial knowledge into a single long thought and pass it through two dense layers.  \n",
    "🔹 The first one, with 128 neurons, does the heavy thinking.  \n",
    "🔹 The final one decides which digit (0 to 9) did it see?\n",
    "\n",
    "And just like that, we’ve built a tiny machine that learns to **see like us**.\n",
    "\n",
    "> 📌 *This CNN is purposefully small, fast to train, easy to understand, and perfect for experimenting with adversarial attacks.*\n"
   ]
  },
  {
   "cell_type": "code",
   "execution_count": 4,
   "id": "6ebb8730-6db7-4951-97bc-d7ef19c58e3f",
   "metadata": {
    "colab": {
     "base_uri": "https://localhost:8080/"
    },
    "id": "6ebb8730-6db7-4951-97bc-d7ef19c58e3f",
    "outputId": "f36496c0-3a15-41bf-8d0f-0ab895f2cc89"
   },
   "outputs": [
    {
     "data": {
      "text/plain": [
       "SimpleCNN(\n",
       "  (conv1): Conv2d(1, 32, kernel_size=(3, 3), stride=(1, 1), padding=(1, 1))\n",
       "  (conv2): Conv2d(32, 64, kernel_size=(3, 3), stride=(1, 1), padding=(1, 1))\n",
       "  (pool): MaxPool2d(kernel_size=2, stride=2, padding=0, dilation=1, ceil_mode=False)\n",
       "  (fc1): Linear(in_features=3136, out_features=128, bias=True)\n",
       "  (fc2): Linear(in_features=128, out_features=10, bias=True)\n",
       "  (relu): ReLU()\n",
       ")"
      ]
     },
     "execution_count": 4,
     "metadata": {},
     "output_type": "execute_result"
    }
   ],
   "source": [
    "# Simple CNN model for MNIST\n",
    "class SimpleCNN(nn.Module):\n",
    "    def __init__(self):\n",
    "        super(SimpleCNN, self).__init__()\n",
    "        self.conv1 = nn.Conv2d(1, 32, kernel_size=3, padding=1)\n",
    "        self.conv2 = nn.Conv2d(32, 64, kernel_size=3, padding=1)\n",
    "        self.pool = nn.MaxPool2d(2, 2)\n",
    "        self.fc1 = nn.Linear(64 * 7 * 7, 128)\n",
    "        self.fc2 = nn.Linear(128, 10)\n",
    "        self.relu = nn.ReLU()\n",
    "\n",
    "    def forward(self, x):\n",
    "        x = self.pool(self.relu(self.conv1(x)))\n",
    "        x = self.pool(self.relu(self.conv2(x)))\n",
    "        x = x.view(-1, 64 * 7 * 7)\n",
    "        x = self.relu(self.fc1(x))\n",
    "        x = self.fc2(x)\n",
    "        return x\n",
    "\n",
    "model = SimpleCNN()\n",
    "model"
   ]
  },
  {
   "cell_type": "markdown",
   "id": "74eee116-b4d0-4c65-a20d-1d85d1a4216f",
   "metadata": {
    "id": "74eee116-b4d0-4c65-a20d-1d85d1a4216f"
   },
   "source": [
    "## 🧼 Preparing the Digits – From Raw Pixels to Ready-to-Learn\n",
    "\n",
    "Before our neural network can *see*, it needs to understand the language of images tensors.\n",
    "\n",
    "We start with a translator:  \n",
    "🔹 `transforms.ToTensor()` takes raw images (pixels 0–255) and converts them into PyTorch tensors the native tongue of neural networks.\n",
    "\n",
    "Then comes a balancing act:  \n",
    "🔹 `transforms.Normalize((0.5,), (0.5,))` rescales pixel values from `[0, 1]` to `[-1, 1]`, ensuring the model doesn’t get overwhelmed by extremes a calm mind learns better.\n",
    "\n",
    "Once transformed, we bring in the knowledge banks:  \n",
    "📚 **MNIST** — the classic handwritten digit dataset split into training and testing worlds.\n",
    "\n",
    "- 🏋️‍♂️ `train_loader`: 60,000 handwritten digits, shuffled and batched into groups of 64. Perfect for learning.\n",
    "- 🧪 `test_loader`: 10,000 unseen digits, untouched by training — our final exam set.\n",
    "\n",
    "This setup forms the **gateway** through which raw data becomes *understandable intelligence* for our CNN.\n"
   ]
  },
  {
   "cell_type": "code",
   "execution_count": 5,
   "id": "63e0f240-ba9a-4ec0-a8ac-90bff796832c",
   "metadata": {
    "colab": {
     "base_uri": "https://localhost:8080/"
    },
    "id": "63e0f240-ba9a-4ec0-a8ac-90bff796832c",
    "outputId": "cfdd6525-35b7-48a6-d547-ccb5442f39be"
   },
   "outputs": [
    {
     "name": "stderr",
     "output_type": "stream",
     "text": [
      "100%|██████████| 9.91M/9.91M [00:00<00:00, 18.0MB/s]\n",
      "100%|██████████| 28.9k/28.9k [00:00<00:00, 499kB/s]\n",
      "100%|██████████| 1.65M/1.65M [00:00<00:00, 4.53MB/s]\n",
      "100%|██████████| 4.54k/4.54k [00:00<00:00, 13.3MB/s]\n"
     ]
    },
    {
     "data": {
      "text/plain": [
       "(<torch.utils.data.dataloader.DataLoader at 0x7f1395d565d0>,\n",
       " <torch.utils.data.dataloader.DataLoader at 0x7f13961bf490>)"
      ]
     },
     "execution_count": 5,
     "metadata": {},
     "output_type": "execute_result"
    }
   ],
   "source": [
    "transform = transforms.Compose([\n",
    "     transforms.ToTensor(),\n",
    "     transforms.Normalize((0.5,), (0.5,))]\n",
    ")\n",
    "\n",
    "train_dataset = datasets.MNIST(root='./data', train=True, download=True, transform=transform)\n",
    "test_dataset = datasets.MNIST(root='./data', train=False, download=True, transform=transform)\n",
    "train_loader = torch.utils.data.DataLoader(train_dataset, batch_size=64, shuffle=True)\n",
    "test_loader = torch.utils.data.DataLoader(test_dataset, batch_size=64, shuffle=False)\n",
    "\n",
    "train_loader, test_loader"
   ]
  },
  {
   "cell_type": "markdown",
   "id": "43b9cc1d-9f8d-465d-a99c-d063540e1273",
   "metadata": {
    "id": "43b9cc1d-9f8d-465d-a99c-d063540e1273"
   },
   "source": [
    "## 🚀 Let the Learning Begin – Training Our Digit Classifier\n",
    "\n",
    "Now that our data is ready, it’s time to bring our neural network to life.\n",
    "\n",
    "We instantiate our **SimpleCNN** — a lightweight convolutional neural network designed to recognize digits from images. But even the most promising model needs a few companions:\n",
    "\n",
    "- ⚙️ `optimizer = Adam(...)`: Think of this as the *coach*, constantly updating the model's game plan (weights) after each mistake.\n",
    "- 📉 `criterion = CrossEntropyLoss()`: Our *referee* it tells the model how far off its predictions are from the truth.\n",
    "\n",
    "### 🧠 Training the Brain\n",
    "The `train()` function steps into the arena.\n",
    "\n",
    "For each **epoch** (a full pass through the training data):\n",
    "- We hand the model batches of digits and ask it to guess.\n",
    "- The loss function shows how wrong the model is.\n",
    "- The optimizer helps it get better — adjusting its parameters to improve next time.\n",
    "\n",
    "Every 100 batches, we peek into its progress with a printed loss value.\n",
    "\n",
    "### 📏 Putting It to the Test\n",
    "After training, the `test()` function evaluates how well the model generalizes to unseen digits those it never studied.\n",
    "\n",
    "- The model turns off learning mode with `.eval()`\n",
    "- It goes through the test data, making predictions.\n",
    "- We calculate the percentage of correct guesses: **Test Accuracy**.\n",
    "\n",
    "---\n",
    "\n",
    "🎉 **And just like that, our model starts thinking.** From knowing nothing about digits to recognizing them with surprising accuracy, this moment marks the birth of intelligence inside code.\n"
   ]
  },
  {
   "cell_type": "code",
   "execution_count": 6,
   "id": "a46ebf02-0179-4728-ba7d-a813d5a0b2f3",
   "metadata": {
    "colab": {
     "base_uri": "https://localhost:8080/"
    },
    "id": "a46ebf02-0179-4728-ba7d-a813d5a0b2f3",
    "outputId": "de3a0bde-fc2c-44a3-ad36-e274ca53b087",
    "scrolled": true
   },
   "outputs": [
    {
     "name": "stdout",
     "output_type": "stream",
     "text": [
      "Training initial model...\n",
      "Epoch 1/5, Batch 0/938, Loss: 2.292902946472168\n",
      "Epoch 1/5, Batch 100/938, Loss: 0.22396144270896912\n",
      "Epoch 1/5, Batch 200/938, Loss: 0.1466895341873169\n",
      "Epoch 1/5, Batch 300/938, Loss: 0.06374120712280273\n",
      "Epoch 1/5, Batch 400/938, Loss: 0.11775147914886475\n",
      "Epoch 1/5, Batch 500/938, Loss: 0.1421186774969101\n",
      "Epoch 1/5, Batch 600/938, Loss: 0.03702366724610329\n",
      "Epoch 1/5, Batch 700/938, Loss: 0.025663260370492935\n",
      "Epoch 1/5, Batch 800/938, Loss: 0.12284591048955917\n",
      "Epoch 1/5, Batch 900/938, Loss: 0.10919448733329773\n",
      "Epoch 2/5, Batch 0/938, Loss: 0.0117986174300313\n",
      "Epoch 2/5, Batch 100/938, Loss: 0.004859633278101683\n",
      "Epoch 2/5, Batch 200/938, Loss: 0.00944727286696434\n",
      "Epoch 2/5, Batch 300/938, Loss: 0.07876724749803543\n",
      "Epoch 2/5, Batch 400/938, Loss: 0.07701323181390762\n",
      "Epoch 2/5, Batch 500/938, Loss: 0.06706240028142929\n",
      "Epoch 2/5, Batch 600/938, Loss: 0.08659479022026062\n",
      "Epoch 2/5, Batch 700/938, Loss: 0.004884133581072092\n",
      "Epoch 2/5, Batch 800/938, Loss: 0.0017161013092845678\n",
      "Epoch 2/5, Batch 900/938, Loss: 0.020858488976955414\n",
      "Epoch 3/5, Batch 0/938, Loss: 0.006214522290974855\n",
      "Epoch 3/5, Batch 100/938, Loss: 0.01074223406612873\n",
      "Epoch 3/5, Batch 200/938, Loss: 0.001016432186588645\n",
      "Epoch 3/5, Batch 300/938, Loss: 0.05092359334230423\n",
      "Epoch 3/5, Batch 400/938, Loss: 0.0012767170555889606\n",
      "Epoch 3/5, Batch 500/938, Loss: 0.04009686037898064\n",
      "Epoch 3/5, Batch 600/938, Loss: 0.02852274477481842\n",
      "Epoch 3/5, Batch 700/938, Loss: 0.00029018908389844\n",
      "Epoch 3/5, Batch 800/938, Loss: 0.021053647622466087\n",
      "Epoch 3/5, Batch 900/938, Loss: 0.02763950638473034\n",
      "Epoch 4/5, Batch 0/938, Loss: 0.008227281272411346\n",
      "Epoch 4/5, Batch 100/938, Loss: 0.0012954180128872395\n",
      "Epoch 4/5, Batch 200/938, Loss: 0.000718373223207891\n",
      "Epoch 4/5, Batch 300/938, Loss: 0.004295468330383301\n",
      "Epoch 4/5, Batch 400/938, Loss: 0.027197420597076416\n",
      "Epoch 4/5, Batch 500/938, Loss: 0.002398434095084667\n",
      "Epoch 4/5, Batch 600/938, Loss: 0.011800151318311691\n",
      "Epoch 4/5, Batch 700/938, Loss: 0.062224358320236206\n",
      "Epoch 4/5, Batch 800/938, Loss: 0.005384113173931837\n",
      "Epoch 4/5, Batch 900/938, Loss: 0.04653234779834747\n",
      "Epoch 5/5, Batch 0/938, Loss: 0.02748272195458412\n",
      "Epoch 5/5, Batch 100/938, Loss: 0.0797300636768341\n",
      "Epoch 5/5, Batch 200/938, Loss: 0.011118023656308651\n",
      "Epoch 5/5, Batch 300/938, Loss: 0.00420804601162672\n",
      "Epoch 5/5, Batch 400/938, Loss: 0.010098956525325775\n",
      "Epoch 5/5, Batch 500/938, Loss: 0.019016286358237267\n",
      "Epoch 5/5, Batch 600/938, Loss: 0.002385473344475031\n",
      "Epoch 5/5, Batch 700/938, Loss: 0.018054500222206116\n",
      "Epoch 5/5, Batch 800/938, Loss: 0.026822233572602272\n",
      "Epoch 5/5, Batch 900/938, Loss: 0.035850610584020615\n",
      "Test Accuracy: 98.96%\n",
      "98.96\n"
     ]
    }
   ],
   "source": [
    "device = torch.device(\"cuda\" if torch.cuda.is_available() else \"cpu\")\n",
    "\n",
    "model = SimpleCNN()\n",
    "model.to(device)\n",
    "optimizer = optim.Adam(model.parameters(), lr=0.001)\n",
    "criterion = nn.CrossEntropyLoss()\n",
    "\n",
    "def train(model, train_loader, optimizer, criterion, device, epochs=5):\n",
    "    \"\"\"\n",
    "    🎓 Trains the given neural network model on labeled image data.\n",
    "\n",
    "    For each epoch, this function:\n",
    "    - Feeds input data to the model in mini-batches.\n",
    "    - Calculates prediction loss using a chosen criterion.\n",
    "    - Propagates the error back and updates weights using the optimizer.\n",
    "\n",
    "    Periodically prints loss to show learning progress.\n",
    "\n",
    "    Args:\n",
    "        model (nn.Module): The neural network to train.\n",
    "        train_loader (DataLoader): Loader for training dataset.\n",
    "        optimizer (torch.optim.Optimizer): Optimization algorithm (e.g., Adam).\n",
    "        criterion (nn.Module): Loss function to measure prediction error.\n",
    "        epochs (int): Number of training cycles over the dataset (default: 5).\n",
    "    \"\"\"\n",
    "    model.train()\n",
    "\n",
    "    for epoch in range(epochs):\n",
    "        for batch_idx, (data, target) in enumerate(train_loader):\n",
    "            data, target = data.to(device), target.to(device)  # Move to device\n",
    "\n",
    "            optimizer.zero_grad()\n",
    "\n",
    "            output = model(data)\n",
    "            loss = criterion(output, target)\n",
    "\n",
    "            loss.backward()\n",
    "            optimizer.step()\n",
    "\n",
    "            if batch_idx % 100 == 0:\n",
    "                print(f'Epoch {epoch+1}/{epochs}, Batch {batch_idx}/{len(train_loader)}, Loss: {loss.item()}')\n",
    "\n",
    "def test(model, test_loader, device):\n",
    "    \"\"\"\n",
    "    🧪 Evaluates the trained model’s performance on unseen test data.\n",
    "\n",
    "    The model is set to evaluation mode to disable gradient calculations.\n",
    "    It then:\n",
    "    - Makes predictions batch-by-batch.\n",
    "    - Compares predictions with actual labels.\n",
    "    - Calculates and prints overall classification accuracy.\n",
    "\n",
    "    Returns:\n",
    "        float: Test accuracy as a percentage (% of correctly predicted digits).\n",
    "    \"\"\"\n",
    "    model.eval()\n",
    "    correct = 0\n",
    "    total = 0\n",
    "\n",
    "    with torch.inference_mode():\n",
    "        for data, target in test_loader:\n",
    "            data, target = data.to(device), target.to(device)  # Move to device\n",
    "            output = model(data)\n",
    "            _, predicted = torch.max(output.data, 1)\n",
    "            total += target.size(0)\n",
    "            correct += (predicted == target).sum().item()\n",
    "\n",
    "    accuracy = 100 * correct / total\n",
    "    print(f'Test Accuracy: {accuracy}%')\n",
    "\n",
    "    return accuracy\n",
    "\n",
    "print(\"Training initial model...\")\n",
    "train(model, train_loader, optimizer, criterion, device=device)\n",
    "\n",
    "initial_accuracy = test(model, test_loader, device=device)\n",
    "print(initial_accuracy)"
   ]
  },
  {
   "cell_type": "markdown",
   "id": "5a3ad658-1828-463a-829e-1f8d504fc72e",
   "metadata": {
    "id": "5a3ad658-1828-463a-829e-1f8d504fc72e"
   },
   "source": [
    "### 🔥 Adversarial Attack & Defense: Outsmarting the Intruder\n",
    "\n",
    "Our neural network was performing beautifully clean MNIST digits, high accuracy, and everything looked great.  \n",
    "But beneath the surface, there was a silent threat lurking.  \n",
    "What if an attacker could nudge the pixels of an image just enough to fool the model, but not enough for a human to notice?\n",
    "\n",
    "Welcome to the world of **adversarial examples**.\n",
    "\n",
    "---\n",
    "\n",
    "### ⚔️ Step 1: The First Breach — FGSM in Action\n",
    "\n",
    "We used the **Fast Gradient Sign Method (FGSM)** to generate adversarial versions of our test dataset.  \n",
    "These images looked almost identical to the originals but were carefully manipulated to mislead the model.\n",
    "\n",
    "The result?  \n",
    "The model, once confident and accurate, was now stumbling.  \n",
    "Its predictions fell apart not because it lacked training, but because it had never seen such subtle deception before.\n",
    "\n",
    "---\n",
    "\n",
    "### 📉 The Aftermath — Measuring the Model's Collapse\n",
    "\n",
    "Accuracy **plummeted**.  \n",
    "The same classifier that aced the clean test set now **struggled**.  \n",
    "The adversarial attack worked — proving just how fragile deep learning models can be when faced with intelligently crafted inputs.\n",
    "\n",
    "This wasn't just a failure - it was a **wake-up call**.\n",
    "\n",
    "---\n",
    "\n",
    "### 🛡️ Step 2: Building a Defense — Adversarial Training\n",
    "\n",
    "Instead of plugging one vulnerability, we built a **shield**.  \n",
    "We retrained the model on a mix of clean and adversarial examples, teaching it to recognize both real and deceptive data.\n",
    "\n",
    "This wasn’t just regular training - this was *survival training*.\n",
    "\n",
    "Each epoch hardened the model’s intuition, slowly making it **robust** against the very attacks that had once broken it.\n",
    "\n",
    "---\n",
    "\n",
    "### ✅ Step 3: Testing the Shield — Did It Work?\n",
    "\n",
    "We unleashed the same adversarial examples again, expecting the model to stumble once more.  \n",
    "But this time... it held its ground.\n",
    "\n",
    "The accuracy on adversarial samples improved significantly a strong sign that **adversarial training works**.\n",
    "\n",
    "> From vulnerable to vigilant — the model had learned not just to see, but to *discern*.\n",
    "\n",
    "---\n"
   ]
  },
  {
   "cell_type": "code",
   "execution_count": 7,
   "id": "6592fde2-471a-4054-bd4b-d491aaa21148",
   "metadata": {
    "colab": {
     "base_uri": "https://localhost:8080/",
     "height": 150,
     "referenced_widgets": [
      "f8eb16dacf1448cabffb8a9c82455080",
      "bcc5dad4396c4e67a8dd78d24fc28639",
      "4b08f87675314c41b577314e6380fc3f",
      "6457293d5bf6470caaa3c5121215ac05",
      "3513c13bbafe49219e1315ae41703055",
      "6fc5076822c54ce2a80d1ddc68ef7191",
      "e3ce9c8543eb4c2e8a6c0817b4648b57",
      "9dfb727abba44438b14af39e692cbbd2",
      "2ed926020155456fabaaf87e70803715",
      "3887ed27b0f448338b30046edec26b18",
      "17211f150d204eb599c1dcec289e046a",
      "7e7691f79a594fb089ad938b99f672e8",
      "43e5d568094a46fdabeb53b6730a3f91",
      "e6a6ba74f6d64fa28956ad11c54644ca",
      "c5b77b9a321f4262a3795a87c10db3d7",
      "44a8aae9f87744959cd9aae7db581afe",
      "7fdd7a2dd0db443da93686bde61fd2c6",
      "0aa7f8a2f2034491b64b77962a6e05c8",
      "d082cef99a06430480209bcabc817727",
      "0d572775930b4c4eb31cdd10dd351cd7",
      "5e6fab007b5b4669a032f82acc9e68b5",
      "462f542d93a04a0cb228da7fb73613de"
     ]
    },
    "id": "6592fde2-471a-4054-bd4b-d491aaa21148",
    "outputId": "7ee5b56a-6375-46d6-a0ac-25d17a5c2c9b"
   },
   "outputs": [
    {
     "name": "stdout",
     "output_type": "stream",
     "text": [
      "Generating adversarial examples with FGSM...\n",
      "Adversarial Test Accuracy: 10.620000000000001%\n",
      "Performing adversarial training...\n"
     ]
    },
    {
     "data": {
      "application/vnd.jupyter.widget-view+json": {
       "model_id": "f8eb16dacf1448cabffb8a9c82455080",
       "version_major": 2,
       "version_minor": 0
      },
      "text/plain": [
       "Precompute adv samples:   0%|          | 0/1 [00:00<?, ?it/s]"
      ]
     },
     "metadata": {},
     "output_type": "display_data"
    },
    {
     "data": {
      "application/vnd.jupyter.widget-view+json": {
       "model_id": "7e7691f79a594fb089ad938b99f672e8",
       "version_major": 2,
       "version_minor": 0
      },
      "text/plain": [
       "Adversarial training epochs:   0%|          | 0/5 [00:00<?, ?it/s]"
      ]
     },
     "metadata": {},
     "output_type": "display_data"
    },
    {
     "name": "stdout",
     "output_type": "stream",
     "text": [
      "Adversarial Test Accuracy after training: 27.21%\n"
     ]
    }
   ],
   "source": [
    "classifier = PyTorchClassifier(\n",
    "    model=model,\n",
    "    loss=criterion,\n",
    "    optimizer=optimizer,\n",
    "    input_shape=(1, 28, 28),\n",
    "    nb_classes=10,\n",
    ")\n",
    "\n",
    "print(\"Generating adversarial examples with FGSM...\")\n",
    "\n",
    "attack = FastGradientMethod(estimator=classifier, eps=0.8)\n",
    "\n",
    "x_test = np.array([x.numpy() for x, _ in test_dataset])\n",
    "\n",
    "x_test_adv = attack.generate(x=x_test)\n",
    "x_test_adv = torch.from_numpy(x_test_adv).float()\n",
    "\n",
    "y_test = torch.tensor([y for _, y in test_dataset])\n",
    "\n",
    "predictions_adv = classifier.predict(x_test_adv)\n",
    "accuracy_adv = np.sum(np.argmax(predictions_adv, axis=1) == y_test.numpy()) / len(y_test)\n",
    "\n",
    "print(f'Adversarial Test Accuracy: {accuracy_adv * 100}%')\n",
    "\n",
    "print(\"Performing adversarial training...\")\n",
    "attacks = [FastGradientMethod(estimator=classifier, eps=0.2)]\n",
    "trainer = AdversarialTrainer(classifier, attacks, ratio=0.5)\n",
    "\n",
    "x_train = np.array([x.numpy() for x, _ in train_dataset])\n",
    "y_train = np.array([y for _, y in train_dataset])\n",
    "\n",
    "trainer.fit(x_train, y_train, nb_epochs=5)\n",
    "\n",
    "predictions_adv_trained = classifier.predict(x_test_adv)\n",
    "accuracy_adv_trained = np.sum(np.argmax(predictions_adv_trained, axis=1) == y_test.numpy()) / len(y_test)\n",
    "\n",
    "print(f'Adversarial Test Accuracy after training: {accuracy_adv_trained * 100}%')"
   ]
  },
  {
   "cell_type": "code",
   "execution_count": 9,
   "id": "2f2fbfd0-13bb-4082-af84-bfbd50081ff0",
   "metadata": {
    "colab": {
     "base_uri": "https://localhost:8080/",
     "height": 457
    },
    "id": "2f2fbfd0-13bb-4082-af84-bfbd50081ff0",
    "outputId": "a3e2dc2a-d789-49d4-97fc-aa55416f2949"
   },
   "outputs": [
    {
     "data": {
      "image/png": "[encoded data removed]",
      "text/plain": [
       "<Figure size 700x450 with 1 Axes>"
      ]
     },
     "metadata": {},
     "output_type": "display_data"
    }
   ],
   "source": [
    "def plot_adversarial_accuracy_progression(before, after):\n",
    "    \"\"\"\n",
    "    Plots a smooth line chart showing adversarial accuracy before and after training,\n",
    "    with clean annotation and auto-adjusted spacing.\n",
    "\n",
    "    Args:\n",
    "        before (float): Accuracy on adversarial examples before training (0.0 - 1.0).\n",
    "        after (float): Accuracy on adversarial examples after adversarial training (0.0 - 1.0).\n",
    "    \"\"\"\n",
    "    stages = ['Before Adv Training', 'After Adv Training']\n",
    "    accuracies = [before * 100, after * 100]\n",
    "\n",
    "    # Extend y-limit slightly for cleaner layout\n",
    "    max_acc = max(accuracies)\n",
    "    y_max = min(100, max_acc + 10)  # cap at 100\n",
    "\n",
    "    plt.figure(figsize=(7, 4.5))\n",
    "    plt.plot(stages, accuracies, marker='o', linestyle='-', color='royalblue', linewidth=2.5, markersize=8)\n",
    "\n",
    "    # Annotate each point slightly above with a shadow effect\n",
    "    for i, acc in enumerate(accuracies):\n",
    "        offset = 3 if acc < 95 else 1.5  # avoid touching top\n",
    "        plt.text(i, acc + offset, f'{acc:.2f}%', ha='center', va='bottom',\n",
    "                 fontsize=11, fontweight='bold', color='purple')\n",
    "\n",
    "    plt.title('Adversarial Accuracy Improvement After Training', fontsize=14, pad=15)\n",
    "    plt.ylabel('Accuracy (%)', fontsize=12)\n",
    "    plt.ylim(0, y_max)\n",
    "    plt.xticks(fontsize=11)\n",
    "    plt.yticks(fontsize=11)\n",
    "    plt.grid(True, linestyle='--', alpha=0.6)\n",
    "    plt.tight_layout()\n",
    "    plt.show()\n",
    "\n",
    "plot_adversarial_accuracy_progression(accuracy_adv, accuracy_adv_trained)"
   ]
  },
  {
   "cell_type": "code",
   "execution_count": 10,
   "id": "e393d762-c783-4a51-ae5e-2d9fb7d5f3d3",
   "metadata": {
    "colab": {
     "base_uri": "https://localhost:8080/",
     "height": 1000
    },
    "id": "e393d762-c783-4a51-ae5e-2d9fb7d5f3d3",
    "outputId": "46b8fdfd-1734-47ba-a0eb-04f4cbdd71c5",
    "scrolled": true
   },
   "outputs": [
    {
     "data": {
      "image/png": "[encoded data removed]",
      "text/plain": [
       "<Figure size 1000x2400 with 12 Axes>"
      ]
     },
     "metadata": {},
     "output_type": "display_data"
    },
    {
     "name": "stdout",
     "output_type": "stream",
     "text": [
      "\n",
      "✅ All images saved in: /content/saved_images\n"
     ]
    }
   ],
   "source": [
    "from PIL import Image\n",
    "\n",
    "def visualize_and_save_images(original, adversarial, classifier, num_images=5, save_dir=\"saved_images\"):\n",
    "    \"\"\"\n",
    "    Visualizes and saves side-by-side comparisons of original and adversarial images.\n",
    "\n",
    "    The story begins with a trained classifier and two competing versions of the same image —\n",
    "    one pure, one subtly corrupted. This function brings them to life by:\n",
    "    - Running both images through the classifier to see how each is perceived.\n",
    "    - Displaying them side-by-side with predictions on top.\n",
    "    - Saving every comparison in neatly organized folders: original, adversarial, and combined.\n",
    "\n",
    "    Parameters:\n",
    "    - original (np.ndarray): Clean input images (e.g., from the test set).\n",
    "    - adversarial (np.ndarray): Corresponding adversarially perturbed images.\n",
    "    - classifier (object): A wrapper or model with a `.model` attribute (must be a PyTorch model).\n",
    "    - num_images (int): How many image pairs to visualize and save. Default is 5.\n",
    "    - save_dir (str): Root directory where all images will be saved. Default is 'saved_images'.\n",
    "\n",
    "    Returns:\n",
    "    - None. Saves images to disk and shows a matplotlib plot comparing predictions.\n",
    "    \"\"\"\n",
    "\n",
    "    classifier.model.eval()\n",
    "\n",
    "    device = next(classifier.model.parameters()).device  # Get model device\n",
    "\n",
    "    original_tensor = torch.from_numpy(original[:num_images]).float().to(device)\n",
    "    adversarial_tensor = torch.from_numpy(adversarial[:num_images]).float().to(device)\n",
    "\n",
    "    with torch.inference_mode():\n",
    "        original_preds = classifier.model(original_tensor).argmax(dim=1).cpu().numpy()\n",
    "        adversarial_preds = classifier.model(adversarial_tensor).argmax(dim=1).cpu().numpy()\n",
    "\n",
    "    save_path = Path(save_dir)\n",
    "    (save_path / \"original\").mkdir(parents=True, exist_ok=True)\n",
    "    (save_path / \"adversarial\").mkdir(parents=True, exist_ok=True)\n",
    "    (save_path / \"combined\").mkdir(parents=True, exist_ok=True)\n",
    "\n",
    "    plt.figure(figsize=(10, 4 * num_images))\n",
    "\n",
    "    for i in range(num_images):\n",
    "        orig_img = original[i].squeeze()\n",
    "        adv_img = adversarial[i].squeeze()\n",
    "\n",
    "        orig_pred = original_preds[i]\n",
    "        adv_pred = adversarial_preds[i]\n",
    "\n",
    "        # Plot for visualization\n",
    "        plt.subplot(num_images, 2, 2 * i + 1)\n",
    "        plt.imshow(orig_img, cmap='gray')\n",
    "        plt.title(f'Original: Predicted {orig_pred}')\n",
    "        plt.axis('off')\n",
    "\n",
    "        plt.subplot(num_images, 2, 2 * i + 2)\n",
    "        plt.imshow(adv_img, cmap='gray')\n",
    "        plt.title(f'Adversarial: Predicted {adv_pred}')\n",
    "        plt.axis('off')\n",
    "\n",
    "        # Convert to PIL and save\n",
    "        orig_img_clipped = np.clip(orig_img, 0, 1)\n",
    "        orig_pil = Image.fromarray((orig_img_clipped * 255).astype(\"uint8\"))\n",
    "\n",
    "        adv_img_clipped = np.clip(adv_img, 0, 1)\n",
    "        adv_pil = Image.fromarray((adv_img_clipped * 255).astype(\"uint8\"))\n",
    "\n",
    "        orig_pil.save(save_path / \"original\" / f\"original_{i}_pred_{orig_pred}.png\")\n",
    "        adv_pil.save(save_path / \"adversarial\" / f\"adversarial_{i}_pred_{adv_pred}.png\")\n",
    "\n",
    "        # Create combined side-by-side image\n",
    "        combined = Image.new(\"L\", (orig_pil.width * 2, orig_pil.height))\n",
    "        combined.paste(orig_pil, (0, 0))\n",
    "        combined.paste(adv_pil, (orig_pil.width, 0))\n",
    "        combined.save(save_path / \"combined\" / f\"compare_{i}_orig_{orig_pred}_adv_{adv_pred}.png\")\n",
    "\n",
    "    plt.tight_layout()\n",
    "    plt.show()\n",
    "    print(f\"\\n✅ All images saved in: {save_path.absolute()}\")\n",
    "\n",
    "visualize_and_save_images(x_test, x_test_adv.numpy(), classifier, num_images=6)"
   ]
  },
  {
   "cell_type": "code",
   "execution_count": 11,
   "id": "8152e7e5-34d4-4fa0-998b-bafe9e934de5",
   "metadata": {
    "colab": {
     "base_uri": "https://localhost:8080/"
    },
    "id": "8152e7e5-34d4-4fa0-998b-bafe9e934de5",
    "outputId": "30c6c923-a845-4fe3-b576-b6f596f78f08"
   },
   "outputs": [
    {
     "name": "stdout",
     "output_type": "stream",
     "text": [
      "Model is successfully saved at: models/IBM_ART_Poisoning_attack2.pth\n"
     ]
    }
   ],
   "source": [
    "# Let's save this model\n",
    "my_model_path = Path(\"models\")\n",
    "my_model_path.mkdir(parents=True, exist_ok=True)\n",
    "model_name = \"IBM_ART_Poisoning_attack2.pth\"\n",
    "\n",
    "full_path_name = my_model_path / model_name\n",
    "torch.save(model.state_dict(), full_path_name)\n",
    "\n",
    "print(f\"Model is successfully saved at: {full_path_name}\")"
   ]
  },
  {
   "cell_type": "markdown",
   "id": "V2MVKzglB5Fo",
   "metadata": {
    "id": "V2MVKzglB5Fo"
   },
   "source": [
    "```python\n",
    "# 🧠 Step 1: Save the Trained Model\n",
    "# After training our classifier to handle both clean and adversarial examples,\n",
    "# we save its learned parameters. This allows us to reuse the model later\n",
    "# without retraining from scratch.\n",
    "\n",
    "torch.save(model.state_dict(), \"IBM_ART_Poisoning_attack.pth\")\n",
    "\n",
    "# ⚔️ Step 2: Load the Saved Model\n",
    "# To evaluate the model or visualize its performance, we reload it.\n",
    "# This step is crucial especially when switching from training to inference.\n",
    "\n",
    "model.load_state_dict(torch.load(\"IBM_ART_Poisoning_attack.pth\"))\n",
    "model.eval()  # Set to evaluation mode to disable dropout, etc.\n",
    "\n",
    "# 🧠 Step 3: Initialize the ART Classifier\n",
    "# After training the model, we wrap it using Adversarial Robustness Toolbox's PyTorchClassifier.\n",
    "# This wrapper enables us to perform training, evaluation, and adversarial attacks in a standardized way.\n",
    "\n",
    "classifier = PyTorchClassifier(\n",
    "    model=model,                  # Your trained PyTorch model\n",
    "    loss=criterion,                # Loss function used during training (e.g., CrossEntropyLoss)\n",
    "    optimizer=optimizer,           # Optimizer used (e.g., Adam or SGD)\n",
    "    input_shape=(1, 28, 28),       # Input shape of MNIST images\n",
    "    nb_classes=10                  # Total number of output classes\n",
    ")\n",
    "\n",
    "# 🖼️ Step 4: Visualize Predictions on Original vs Adversarial Samples\n",
    "# We use a custom visualization function to compare how the model performs\n",
    "# on clean images versus adversarially perturbed ones.\n",
    "# It displays predictions and saves all comparison images to disk.\n",
    "\n",
    "visualize_and_save_images(\n",
    "    original=x_test,\n",
    "    adversarial=x_test_adv.numpy(),\n",
    "    classifier=classifier,\n",
    "    num_images=6  # Number of images to visualize and save\n",
    ")\n",
    "```\n"
   ]
  },
  {
   "cell_type": "code",
   "execution_count": 12,
   "id": "4f8fd340-396a-4cc8-a519-583eb2070e2e",
   "metadata": {
    "colab": {
     "base_uri": "https://localhost:8080/"
    },
    "id": "4f8fd340-396a-4cc8-a519-583eb2070e2e",
    "outputId": "1f61c0de-1cc7-438c-e2dd-83d165561f7c"
   },
   "outputs": [
    {
     "data": {
      "text/plain": [
       "SimpleCNN(\n",
       "  (conv1): Conv2d(1, 32, kernel_size=(3, 3), stride=(1, 1), padding=(1, 1))\n",
       "  (conv2): Conv2d(32, 64, kernel_size=(3, 3), stride=(1, 1), padding=(1, 1))\n",
       "  (pool): MaxPool2d(kernel_size=2, stride=2, padding=0, dilation=1, ceil_mode=False)\n",
       "  (fc1): Linear(in_features=3136, out_features=128, bias=True)\n",
       "  (fc2): Linear(in_features=128, out_features=10, bias=True)\n",
       "  (relu): ReLU()\n",
       ")"
      ]
     },
     "execution_count": 12,
     "metadata": {},
     "output_type": "execute_result"
    }
   ],
   "source": [
    "model2 = SimpleCNN()\n",
    "my_model_path = Path(\"models\")\n",
    "model_name = \"IBM_ART_Poisoning_attack2.pth\"\n",
    "\n",
    "full_path_name = my_model_path / model_name\n",
    "model2.load_state_dict(torch.load(full_path_name))\n",
    "model2.eval()"
   ]
  },
  {
   "cell_type": "code",
   "execution_count": 13,
   "id": "af75c84f-b539-451c-970a-04bf280d1d51",
   "metadata": {
    "colab": {
     "base_uri": "https://localhost:8080/"
    },
    "id": "af75c84f-b539-451c-970a-04bf280d1d51",
    "outputId": "f996bb3e-713a-4077-8a18-033c14cb69d3"
   },
   "outputs": [
    {
     "data": {
      "text/plain": [
       "Adam (\n",
       "Parameter Group 0\n",
       "    amsgrad: False\n",
       "    betas: (0.9, 0.999)\n",
       "    capturable: False\n",
       "    differentiable: False\n",
       "    eps: 1e-08\n",
       "    foreach: None\n",
       "    fused: None\n",
       "    lr: 0.001\n",
       "    maximize: False\n",
       "    weight_decay: 0\n",
       ")"
      ]
     },
     "execution_count": 13,
     "metadata": {},
     "output_type": "execute_result"
    }
   ],
   "source": [
    "criterion = nn.CrossEntropyLoss()\n",
    "optimizer = optim.Adam(model2.parameters(), lr=0.001)\n",
    "optimizer"
   ]
  },
  {
   "cell_type": "code",
   "execution_count": 14,
   "id": "5oFUVgMnBLKA",
   "metadata": {
    "colab": {
     "base_uri": "https://localhost:8080/"
    },
    "id": "5oFUVgMnBLKA",
    "outputId": "c46ac15a-4722-437e-e8f6-af579155b44e"
   },
   "outputs": [
    {
     "data": {
      "text/plain": [
       "art.estimators.classification.pytorch.PyTorchClassifier(model=ModelWrapper(\n",
       "  (_model): SimpleCNN(\n",
       "    (conv1): Conv2d(1, 32, kernel_size=(3, 3), stride=(1, 1), padding=(1, 1))\n",
       "    (conv2): Conv2d(32, 64, kernel_size=(3, 3), stride=(1, 1), padding=(1, 1))\n",
       "    (pool): MaxPool2d(kernel_size=2, stride=2, padding=0, dilation=1, ceil_mode=False)\n",
       "    (fc1): Linear(in_features=3136, out_features=128, bias=True)\n",
       "    (fc2): Linear(in_features=128, out_features=10, bias=True)\n",
       "    (relu): ReLU()\n",
       "  )\n",
       "), loss=CrossEntropyLoss(), optimizer=Adam (\n",
       "Parameter Group 0\n",
       "    amsgrad: False\n",
       "    betas: (0.9, 0.999)\n",
       "    capturable: False\n",
       "    differentiable: False\n",
       "    eps: 1e-08\n",
       "    foreach: None\n",
       "    fused: None\n",
       "    lr: 0.001\n",
       "    maximize: False\n",
       "    weight_decay: 0\n",
       "), input_shape=(1, 28, 28), nb_classes=10, channels_first=True, clip_values=None, preprocessing_defences=None, postprocessing_defences=None, preprocessing=StandardisationMeanStdPyTorch(mean=0.0, std=1.0, apply_fit=True, apply_predict=True, device=cuda:0))"
      ]
     },
     "execution_count": 14,
     "metadata": {},
     "output_type": "execute_result"
    }
   ],
   "source": [
    "classifier2 = PyTorchClassifier(\n",
    "    model=model2,\n",
    "    loss=criterion,\n",
    "    optimizer=optimizer,\n",
    "    input_shape=(1, 28, 28),\n",
    "    nb_classes=10\n",
    ")\n",
    "\n",
    "classifier2"
   ]
  },
  {
   "cell_type": "code",
   "execution_count": 15,
   "id": "d6bca40b-951c-4033-b47f-96e0b4d9dca8",
   "metadata": {
    "colab": {
     "base_uri": "https://localhost:8080/",
     "height": 1000
    },
    "id": "d6bca40b-951c-4033-b47f-96e0b4d9dca8",
    "outputId": "7eb06b7d-9649-4050-8aff-6ccd4d66a631",
    "scrolled": true
   },
   "outputs": [
    {
     "data": {
      "image/png": "[encoded data removed]",
      "text/plain": [
       "<Figure size 1000x2400 with 12 Axes>"
      ]
     },
     "metadata": {},
     "output_type": "display_data"
    },
    {
     "name": "stdout",
     "output_type": "stream",
     "text": [
      "\n",
      "✅ All images saved in: /content/saved_images\n"
     ]
    }
   ],
   "source": [
    "visualize_and_save_images(x_test, x_test_adv.numpy(), classifier2, num_images=6)"
   ]
  },
  {
   "cell_type": "code",
   "execution_count": null,
   "id": "b57b858e-c7ec-4190-bec5-b594313783af",
   "metadata": {
    "id": "b57b858e-c7ec-4190-bec5-b594313783af"
   },
   "outputs": [],
   "source": []
  },
  {
   "cell_type": "code",
   "execution_count": null,
   "id": "447caded-a101-49d6-bf4e-7057468c86dd",
   "metadata": {
    "id": "447caded-a101-49d6-bf4e-7057468c86dd"
   },
   "outputs": [],
   "source": []
  },
  {
   "cell_type": "code",
   "execution_count": null,
   "id": "5ef349e0-fe65-45bf-b899-792f6858475e",
   "metadata": {
    "id": "5ef349e0-fe65-45bf-b899-792f6858475e"
   },
   "outputs": [],
   "source": []
  },
  {
   "cell_type": "code",
   "execution_count": null,
   "id": "fc11ab73-1157-42c0-8633-594d2c815bb0",
   "metadata": {
    "id": "fc11ab73-1157-42c0-8633-594d2c815bb0"
   },
   "outputs": [],
   "source": []
  },
  {
   "cell_type": "code",
   "execution_count": null,
   "id": "6fdfcc7e-72cd-4d4c-9886-d630809cbdaf",
   "metadata": {
    "id": "6fdfcc7e-72cd-4d4c-9886-d630809cbdaf"
   },
   "outputs": [],
   "source": []
  },
  {
   "cell_type": "code",
   "execution_count": null,
   "id": "8f229a29-fdf0-471e-923b-7bac5b69aed4",
   "metadata": {
    "id": "8f229a29-fdf0-471e-923b-7bac5b69aed4"
   },
   "outputs": [],
   "source": []
  },
  {
   "cell_type": "code",
   "execution_count": null,
   "id": "edf93caf-bcf1-41a7-b6de-d0601ab6180d",
   "metadata": {
    "id": "edf93caf-bcf1-41a7-b6de-d0601ab6180d"
   },
   "outputs": [],
   "source": []
  },
  {
   "cell_type": "code",
   "execution_count": null,
   "id": "95113426-ff5b-40e6-82df-eb600a57019d",
   "metadata": {
    "id": "95113426-ff5b-40e6-82df-eb600a57019d"
   },
   "outputs": [],
   "source": []
  },
  {
   "cell_type": "code",
   "execution_count": null,
   "id": "dbbe60c8-254e-4522-bef9-a24a02c72dda",
   "metadata": {
    "id": "dbbe60c8-254e-4522-bef9-a24a02c72dda"
   },
   "outputs": [],
   "source": []
  },
  {
   "cell_type": "code",
   "execution_count": null,
   "id": "0765898a-34d9-4869-98af-4e98fc4fe5f1",
   "metadata": {
    "id": "0765898a-34d9-4869-98af-4e98fc4fe5f1"
   },
   "outputs": [],
   "source": []
  },
  {
   "cell_type": "code",
   "execution_count": null,
   "id": "67783610-bb88-407b-b1f7-ca57e93dbce2",
   "metadata": {
    "id": "67783610-bb88-407b-b1f7-ca57e93dbce2"
   },
   "outputs": [],
   "source": []
  },
  {
   "cell_type": "code",
   "execution_count": null,
   "id": "c2adbc35-329f-43bb-ad9d-15c54e7c9f25",
   "metadata": {
    "id": "c2adbc35-329f-43bb-ad9d-15c54e7c9f25"
   },
   "outputs": [],
   "source": []
  },
  {
   "cell_type": "code",
   "execution_count": null,
   "id": "4048dfd4-9820-48d8-96fc-385b2c409295",
   "metadata": {
    "id": "4048dfd4-9820-48d8-96fc-385b2c409295"
   },
   "outputs": [],
   "source": []
  },
  {
   "cell_type": "code",
   "execution_count": null,
   "id": "7a20b1b9-dc31-406e-ab19-44842255d77c",
   "metadata": {
    "id": "7a20b1b9-dc31-406e-ab19-44842255d77c"
   },
   "outputs": [],
   "source": []
  },
  {
   "cell_type": "code",
   "execution_count": null,
   "id": "234d3b1c-e043-4ae6-9ec9-47aa3c5802aa",
   "metadata": {
    "id": "234d3b1c-e043-4ae6-9ec9-47aa3c5802aa"
   },
   "outputs": [],
   "source": []
  },
  {
   "cell_type": "code",
   "execution_count": null,
   "id": "a325cae3-eb7e-4e91-ab3e-651202c43a99",
   "metadata": {
    "id": "a325cae3-eb7e-4e91-ab3e-651202c43a99"
   },
   "outputs": [],
   "source": []
  },
  {
   "cell_type": "code",
   "execution_count": null,
   "id": "8a5ccdcf-6b91-4c74-9384-ce88b76fc4f4",
   "metadata": {
    "id": "8a5ccdcf-6b91-4c74-9384-ce88b76fc4f4"
   },
   "outputs": [],
   "source": []
  },
  {
   "cell_type": "code",
   "execution_count": null,
   "id": "2f83bf9f-562c-474d-8ec8-61977d3737b5",
   "metadata": {
    "id": "2f83bf9f-562c-474d-8ec8-61977d3737b5"
   },
   "outputs": [],
   "source": []
  },
  {
   "cell_type": "code",
   "execution_count": null,
   "id": "3f3dcb16-c54e-4e87-8e0b-5eef892a06eb",
   "metadata": {
    "id": "3f3dcb16-c54e-4e87-8e0b-5eef892a06eb"
   },
   "outputs": [],
   "source": []
  },
  {
   "cell_type": "code",
   "execution_count": null,
   "id": "53fd9991-c2bc-49b3-a446-9970f44bc1bc",
   "metadata": {
    "id": "53fd9991-c2bc-49b3-a446-9970f44bc1bc"
   },
   "outputs": [],
   "source": []
  },
  {
   "cell_type": "code",
   "execution_count": null,
   "id": "c1594d2d-b030-40bd-97ac-7bce71b7ca6e",
   "metadata": {
    "id": "c1594d2d-b030-40bd-97ac-7bce71b7ca6e"
   },
   "outputs": [],
   "source": []
  },
  {
   "cell_type": "code",
   "execution_count": null,
   "id": "6e329447-39c5-4bd1-a487-d0ec51b6bbb0",
   "metadata": {
    "id": "6e329447-39c5-4bd1-a487-d0ec51b6bbb0"
   },
   "outputs": [],
   "source": []
  },
  {
   "cell_type": "code",
   "execution_count": null,
   "id": "1005e81a-0137-42d4-aa90-32ec6615d1c1",
   "metadata": {
    "id": "1005e81a-0137-42d4-aa90-32ec6615d1c1"
   },
   "outputs": [],
   "source": []
  },
  {
   "cell_type": "code",
   "execution_count": null,
   "id": "6677da55-3319-4478-b5d9-f9e23bec4e9a",
   "metadata": {
    "id": "6677da55-3319-4478-b5d9-f9e23bec4e9a"
   },
   "outputs": [],
   "source": []
  },
  {
   "cell_type": "code",
   "execution_count": null,
   "id": "6ed26a5c-2aaa-4b54-834b-ccb13d1bb252",
   "metadata": {
    "id": "6ed26a5c-2aaa-4b54-834b-ccb13d1bb252"
   },
   "outputs": [],
   "source": []
  },
  {
   "cell_type": "code",
   "execution_count": null,
   "id": "488be218-f30d-452b-9a59-e3139654edfb",
   "metadata": {
    "id": "488be218-f30d-452b-9a59-e3139654edfb"
   },
   "outputs": [],
   "source": []
  },
  {
   "cell_type": "code",
   "execution_count": null,
   "id": "9463b95d-6edb-4d33-8a27-91e5c2ce4f9f",
   "metadata": {
    "id": "9463b95d-6edb-4d33-8a27-91e5c2ce4f9f"
   },
   "outputs": [],
   "source": []
  },
  {
   "cell_type": "code",
   "execution_count": null,
   "id": "a7eb8f0a-62a6-4a12-962e-60ccf0582977",
   "metadata": {
    "id": "a7eb8f0a-62a6-4a12-962e-60ccf0582977"
   },
   "outputs": [],
   "source": []
  },
  {
   "cell_type": "code",
   "execution_count": null,
   "id": "7f513c15-4e88-4bfa-bb0c-afb36be45be1",
   "metadata": {
    "id": "7f513c15-4e88-4bfa-bb0c-afb36be45be1"
   },
   "outputs": [],
   "source": []
  },
  {
   "cell_type": "code",
   "execution_count": null,
   "id": "e0b0a57f-5452-4f3c-a925-3cdf22301607",
   "metadata": {
    "id": "e0b0a57f-5452-4f3c-a925-3cdf22301607"
   },
   "outputs": [],
   "source": []
  },
  {
   "cell_type": "code",
   "execution_count": null,
   "id": "b6cdc37b-4c36-482b-9189-e9872bb904b7",
   "metadata": {
    "id": "b6cdc37b-4c36-482b-9189-e9872bb904b7"
   },
   "outputs": [],
   "source": []
  },
  {
   "cell_type": "code",
   "execution_count": null,
   "id": "229203f3-9694-4355-9326-0a4d97c61c5e",
   "metadata": {
    "id": "229203f3-9694-4355-9326-0a4d97c61c5e"
   },
   "outputs": [],
   "source": []
  },
  {
   "cell_type": "code",
   "execution_count": null,
   "id": "4af81a01-786a-4150-8c63-43195ba466fe",
   "metadata": {
    "id": "4af81a01-786a-4150-8c63-43195ba466fe"
   },
   "outputs": [],
   "source": []
  },
  {
   "cell_type": "code",
   "execution_count": null,
   "id": "f92d3dc1-fb3d-4bf9-b878-f6135b4d25d3",
   "metadata": {
    "id": "f92d3dc1-fb3d-4bf9-b878-f6135b4d25d3"
   },
   "outputs": [],
   "source": []
  },
  {
   "cell_type": "code",
   "execution_count": null,
   "id": "52cd461a-bd3c-4957-bb20-14876fcafff7",
   "metadata": {
    "id": "52cd461a-bd3c-4957-bb20-14876fcafff7"
   },
   "outputs": [],
   "source": []
  },
  {
   "cell_type": "code",
   "execution_count": null,
   "id": "47f15ab8-d66b-4789-a62f-8857ee18d1f1",
   "metadata": {
    "id": "47f15ab8-d66b-4789-a62f-8857ee18d1f1"
   },
   "outputs": [],
   "source": []
  },
  {
   "cell_type": "code",
   "execution_count": null,
   "id": "e9610e64-96ef-42c3-8d6f-bfd7fae3273c",
   "metadata": {
    "id": "e9610e64-96ef-42c3-8d6f-bfd7fae3273c"
   },
   "outputs": [],
   "source": []
  },
  {
   "cell_type": "code",
   "execution_count": null,
   "id": "f8d121d5-dd7b-4b22-bf3c-b3e97d480b38",
   "metadata": {
    "id": "f8d121d5-dd7b-4b22-bf3c-b3e97d480b38"
   },
   "outputs": [],
   "source": []
  },
  {
   "cell_type": "code",
   "execution_count": null,
   "id": "d7e4731a-9913-4baa-8d1c-0e607d7a148b",
   "metadata": {
    "id": "d7e4731a-9913-4baa-8d1c-0e607d7a148b"
   },
   "outputs": [],
   "source": []
  },
  {
   "cell_type": "code",
   "execution_count": null,
   "id": "2c6b6534-8b24-4fcd-b0bf-7a8481da9576",
   "metadata": {
    "id": "2c6b6534-8b24-4fcd-b0bf-7a8481da9576"
   },
   "outputs": [],
   "source": []
  }
 ],
 "metadata": {
  "accelerator": "GPU",
  "colab": {
   "gpuType": "T4",
   "provenance": []
  },
  "kernelspec": {
   "display_name": "Python 3 (ipykernel)",
   "language": "python",
   "name": "python3"
  },
  "language_info": {
   "codemirror_mode": {
    "name": "ipython",
    "version": 3
   },
   "file_extension": ".py",
   "mimetype": "text/x-python",
   "name": "python",
   "nbconvert_exporter": "python",
   "pygments_lexer": "ipython3",
   "version": "3.10.6"
  },
  "widgets": {
   "application/vnd.jupyter.widget-state+json": {
    "0aa7f8a2f2034491b64b77962a6e05c8": {
     "model_module": "@jupyter-widgets/controls",
     "model_module_version": "1.5.0",
     "model_name": "DescriptionStyleModel",
     "state": {
      "_model_module": "@jupyter-widgets/controls",
      "_model_module_version": "1.5.0",
      "_model_name": "DescriptionStyleModel",
      "_view_count": null,
      "_view_module": "@jupyter-widgets/base",
      "_view_module_version": "1.2.0",
      "_view_name": "StyleView",
      "description_width": ""
     }
    },
    "0d572775930b4c4eb31cdd10dd351cd7": {
     "model_module": "@jupyter-widgets/controls",
     "model_module_version": "1.5.0",
     "model_name": "ProgressStyleModel",
     "state": {
      "_model_module": "@jupyter-widgets/controls",
      "_model_module_version": "1.5.0",
      "_model_name": "ProgressStyleModel",
      "_view_count": null,
      "_view_module": "@jupyter-widgets/base",
      "_view_module_version": "1.2.0",
      "_view_name": "StyleView",
      "bar_color": null,
      "description_width": ""
     }
    },
    "17211f150d204eb599c1dcec289e046a": {
     "model_module": "@jupyter-widgets/controls",
     "model_module_version": "1.5.0",
     "model_name": "DescriptionStyleModel",
     "state": {
      "_model_module": "@jupyter-widgets/controls",
      "_model_module_version": "1.5.0",
      "_model_name": "DescriptionStyleModel",
      "_view_count": null,
      "_view_module": "@jupyter-widgets/base",
      "_view_module_version": "1.2.0",
      "_view_name": "StyleView",
      "description_width": ""
     }
    },
    "2ed926020155456fabaaf87e70803715": {
     "model_module": "@jupyter-widgets/controls",
     "model_module_version": "1.5.0",
     "model_name": "ProgressStyleModel",
     "state": {
      "_model_module": "@jupyter-widgets/controls",
      "_model_module_version": "1.5.0",
      "_model_name": "ProgressStyleModel",
      "_view_count": null,
      "_view_module": "@jupyter-widgets/base",
      "_view_module_version": "1.2.0",
      "_view_name": "StyleView",
      "bar_color": null,
      "description_width": ""
     }
    },
    "3513c13bbafe49219e1315ae41703055": {
     "model_module": "@jupyter-widgets/base",
     "model_module_version": "1.2.0",
     "model_name": "LayoutModel",
     "state": {
      "_model_module": "@jupyter-widgets/base",
      "_model_module_version": "1.2.0",
      "_model_name": "LayoutModel",
      "_view_count": null,
      "_view_module": "@jupyter-widgets/base",
      "_view_module_version": "1.2.0",
      "_view_name": "LayoutView",
      "align_content": null,
      "align_items": null,
      "align_self": null,
      "border": null,
      "bottom": null,
      "display": null,
      "flex": null,
      "flex_flow": null,
      "grid_area": null,
      "grid_auto_columns": null,
      "grid_auto_flow": null,
      "grid_auto_rows": null,
      "grid_column": null,
      "grid_gap": null,
      "grid_row": null,
      "grid_template_areas": null,
      "grid_template_columns": null,
      "grid_template_rows": null,
      "height": null,
      "justify_content": null,
      "justify_items": null,
      "left": null,
      "margin": null,
      "max_height": null,
      "max_width": null,
      "min_height": null,
      "min_width": null,
      "object_fit": null,
      "object_position": null,
      "order": null,
      "overflow": null,
      "overflow_x": null,
      "overflow_y": null,
      "padding": null,
      "right": null,
      "top": null,
      "visibility": null,
      "width": null
     }
    },
    "3887ed27b0f448338b30046edec26b18": {
     "model_module": "@jupyter-widgets/base",
     "model_module_version": "1.2.0",
     "model_name": "LayoutModel",
     "state": {
      "_model_module": "@jupyter-widgets/base",
      "_model_module_version": "1.2.0",
      "_model_name": "LayoutModel",
      "_view_count": null,
      "_view_module": "@jupyter-widgets/base",
      "_view_module_version": "1.2.0",
      "_view_name": "LayoutView",
      "align_content": null,
      "align_items": null,
      "align_self": null,
      "border": null,
      "bottom": null,
      "display": null,
      "flex": null,
      "flex_flow": null,
      "grid_area": null,
      "grid_auto_columns": null,
      "grid_auto_flow": null,
      "grid_auto_rows": null,
      "grid_column": null,
      "grid_gap": null,
      "grid_row": null,
      "grid_template_areas": null,
      "grid_template_columns": null,
      "grid_template_rows": null,
      "height": null,
      "justify_content": null,
      "justify_items": null,
      "left": null,
      "margin": null,
      "max_height": null,
      "max_width": null,
      "min_height": null,
      "min_width": null,
      "object_fit": null,
      "object_position": null,
      "order": null,
      "overflow": null,
      "overflow_x": null,
      "overflow_y": null,
      "padding": null,
      "right": null,
      "top": null,
      "visibility": null,
      "width": null
     }
    },
    "43e5d568094a46fdabeb53b6730a3f91": {
     "model_module": "@jupyter-widgets/controls",
     "model_module_version": "1.5.0",
     "model_name": "HTMLModel",
     "state": {
      "_dom_classes": [],
      "_model_module": "@jupyter-widgets/controls",
      "_model_module_version": "1.5.0",
      "_model_name": "HTMLModel",
      "_view_count": null,
      "_view_module": "@jupyter-widgets/controls",
      "_view_module_version": "1.5.0",
      "_view_name": "HTMLView",
      "description": "",
      "description_tooltip": null,
      "layout": "IPY_MODEL_7fdd7a2dd0db443da93686bde61fd2c6",
      "placeholder": "​",
      "style": "IPY_MODEL_0aa7f8a2f2034491b64b77962a6e05c8",
      "value": "Adversarial training epochs: 100%"
     }
    },
    "44a8aae9f87744959cd9aae7db581afe": {
     "model_module": "@jupyter-widgets/base",
     "model_module_version": "1.2.0",
     "model_name": "LayoutModel",
     "state": {
      "_model_module": "@jupyter-widgets/base",
      "_model_module_version": "1.2.0",
      "_model_name": "LayoutModel",
      "_view_count": null,
      "_view_module": "@jupyter-widgets/base",
      "_view_module_version": "1.2.0",
      "_view_name": "LayoutView",
      "align_content": null,
      "align_items": null,
      "align_self": null,
      "border": null,
      "bottom": null,
      "display": null,
      "flex": null,
      "flex_flow": null,
      "grid_area": null,
      "grid_auto_columns": null,
      "grid_auto_flow": null,
      "grid_auto_rows": null,
      "grid_column": null,
      "grid_gap": null,
      "grid_row": null,
      "grid_template_areas": null,
      "grid_template_columns": null,
      "grid_template_rows": null,
      "height": null,
      "justify_content": null,
      "justify_items": null,
      "left": null,
      "margin": null,
      "max_height": null,
      "max_width": null,
      "min_height": null,
      "min_width": null,
      "object_fit": null,
      "object_position": null,
      "order": null,
      "overflow": null,
      "overflow_x": null,
      "overflow_y": null,
      "padding": null,
      "right": null,
      "top": null,
      "visibility": null,
      "width": null
     }
    },
    "462f542d93a04a0cb228da7fb73613de": {
     "model_module": "@jupyter-widgets/controls",
     "model_module_version": "1.5.0",
     "model_name": "DescriptionStyleModel",
     "state": {
      "_model_module": "@jupyter-widgets/controls",
      "_model_module_version": "1.5.0",
      "_model_name": "DescriptionStyleModel",
      "_view_count": null,
      "_view_module": "@jupyter-widgets/base",
      "_view_module_version": "1.2.0",
      "_view_name": "StyleView",
      "description_width": ""
     }
    },
    "4b08f87675314c41b577314e6380fc3f": {
     "model_module": "@jupyter-widgets/controls",
     "model_module_version": "1.5.0",
     "model_name": "FloatProgressModel",
     "state": {
      "_dom_classes": [],
      "_model_module": "@jupyter-widgets/controls",
      "_model_module_version": "1.5.0",
      "_model_name": "FloatProgressModel",
      "_view_count": null,
      "_view_module": "@jupyter-widgets/controls",
      "_view_module_version": "1.5.0",
      "_view_name": "ProgressView",
      "bar_style": "success",
      "description": "",
      "description_tooltip": null,
      "layout": "IPY_MODEL_9dfb727abba44438b14af39e692cbbd2",
      "max": 1,
      "min": 0,
      "orientation": "horizontal",
      "style": "IPY_MODEL_2ed926020155456fabaaf87e70803715",
      "value": 1
     }
    },
    "5e6fab007b5b4669a032f82acc9e68b5": {
     "model_module": "@jupyter-widgets/base",
     "model_module_version": "1.2.0",
     "model_name": "LayoutModel",
     "state": {
      "_model_module": "@jupyter-widgets/base",
      "_model_module_version": "1.2.0",
      "_model_name": "LayoutModel",
      "_view_count": null,
      "_view_module": "@jupyter-widgets/base",
      "_view_module_version": "1.2.0",
      "_view_name": "LayoutView",
      "align_content": null,
      "align_items": null,
      "align_self": null,
      "border": null,
      "bottom": null,
      "display": null,
      "flex": null,
      "flex_flow": null,
      "grid_area": null,
      "grid_auto_columns": null,
      "grid_auto_flow": null,
      "grid_auto_rows": null,
      "grid_column": null,
      "grid_gap": null,
      "grid_row": null,
      "grid_template_areas": null,
      "grid_template_columns": null,
      "grid_template_rows": null,
      "height": null,
      "justify_content": null,
      "justify_items": null,
      "left": null,
      "margin": null,
      "max_height": null,
      "max_width": null,
      "min_height": null,
      "min_width": null,
      "object_fit": null,
      "object_position": null,
      "order": null,
      "overflow": null,
      "overflow_x": null,
      "overflow_y": null,
      "padding": null,
      "right": null,
      "top": null,
      "visibility": null,
      "width": null
     }
    },
    "6457293d5bf6470caaa3c5121215ac05": {
     "model_module": "@jupyter-widgets/controls",
     "model_module_version": "1.5.0",
     "model_name": "HTMLModel",
     "state": {
      "_dom_classes": [],
      "_model_module": "@jupyter-widgets/controls",
      "_model_module_version": "1.5.0",
      "_model_name": "HTMLModel",
      "_view_count": null,
      "_view_module": "@jupyter-widgets/controls",
      "_view_module_version": "1.5.0",
      "_view_name": "HTMLView",
      "description": "",
      "description_tooltip": null,
      "layout": "IPY_MODEL_3887ed27b0f448338b30046edec26b18",
      "placeholder": "​",
      "style": "IPY_MODEL_17211f150d204eb599c1dcec289e046a",
      "value": " 1/1 [00:00&lt;00:00, 50.72it/s]"
     }
    },
    "6fc5076822c54ce2a80d1ddc68ef7191": {
     "model_module": "@jupyter-widgets/base",
     "model_module_version": "1.2.0",
     "model_name": "LayoutModel",
     "state": {
      "_model_module": "@jupyter-widgets/base",
      "_model_module_version": "1.2.0",
      "_model_name": "LayoutModel",
      "_view_count": null,
      "_view_module": "@jupyter-widgets/base",
      "_view_module_version": "1.2.0",
      "_view_name": "LayoutView",
      "align_content": null,
      "align_items": null,
      "align_self": null,
      "border": null,
      "bottom": null,
      "display": null,
      "flex": null,
      "flex_flow": null,
      "grid_area": null,
      "grid_auto_columns": null,
      "grid_auto_flow": null,
      "grid_auto_rows": null,
      "grid_column": null,
      "grid_gap": null,
      "grid_row": null,
      "grid_template_areas": null,
      "grid_template_columns": null,
      "grid_template_rows": null,
      "height": null,
      "justify_content": null,
      "justify_items": null,
      "left": null,
      "margin": null,
      "max_height": null,
      "max_width": null,
      "min_height": null,
      "min_width": null,
      "object_fit": null,
      "object_position": null,
      "order": null,
      "overflow": null,
      "overflow_x": null,
      "overflow_y": null,
      "padding": null,
      "right": null,
      "top": null,
      "visibility": null,
      "width": null
     }
    },
    "7e7691f79a594fb089ad938b99f672e8": {
     "model_module": "@jupyter-widgets/controls",
     "model_module_version": "1.5.0",
     "model_name": "HBoxModel",
     "state": {
      "_dom_classes": [],
      "_model_module": "@jupyter-widgets/controls",
      "_model_module_version": "1.5.0",
      "_model_name": "HBoxModel",
      "_view_count": null,
      "_view_module": "@jupyter-widgets/controls",
      "_view_module_version": "1.5.0",
      "_view_name": "HBoxView",
      "box_style": "",
      "children": [
       "IPY_MODEL_43e5d568094a46fdabeb53b6730a3f91",
       "IPY_MODEL_e6a6ba74f6d64fa28956ad11c54644ca",
       "IPY_MODEL_c5b77b9a321f4262a3795a87c10db3d7"
      ],
      "layout": "IPY_MODEL_44a8aae9f87744959cd9aae7db581afe"
     }
    },
    "7fdd7a2dd0db443da93686bde61fd2c6": {
     "model_module": "@jupyter-widgets/base",
     "model_module_version": "1.2.0",
     "model_name": "LayoutModel",
     "state": {
      "_model_module": "@jupyter-widgets/base",
      "_model_module_version": "1.2.0",
      "_model_name": "LayoutModel",
      "_view_count": null,
      "_view_module": "@jupyter-widgets/base",
      "_view_module_version": "1.2.0",
      "_view_name": "LayoutView",
      "align_content": null,
      "align_items": null,
      "align_self": null,
      "border": null,
      "bottom": null,
      "display": null,
      "flex": null,
      "flex_flow": null,
      "grid_area": null,
      "grid_auto_columns": null,
      "grid_auto_flow": null,
      "grid_auto_rows": null,
      "grid_column": null,
      "grid_gap": null,
      "grid_row": null,
      "grid_template_areas": null,
      "grid_template_columns": null,
      "grid_template_rows": null,
      "height": null,
      "justify_content": null,
      "justify_items": null,
      "left": null,
      "margin": null,
      "max_height": null,
      "max_width": null,
      "min_height": null,
      "min_width": null,
      "object_fit": null,
      "object_position": null,
      "order": null,
      "overflow": null,
      "overflow_x": null,
      "overflow_y": null,
      "padding": null,
      "right": null,
      "top": null,
      "visibility": null,
      "width": null
     }
    },
    "9dfb727abba44438b14af39e692cbbd2": {
     "model_module": "@jupyter-widgets/base",
     "model_module_version": "1.2.0",
     "model_name": "LayoutModel",
     "state": {
      "_model_module": "@jupyter-widgets/base",
      "_model_module_version": "1.2.0",
      "_model_name": "LayoutModel",
      "_view_count": null,
      "_view_module": "@jupyter-widgets/base",
      "_view_module_version": "1.2.0",
      "_view_name": "LayoutView",
      "align_content": null,
      "align_items": null,
      "align_self": null,
      "border": null,
      "bottom": null,
      "display": null,
      "flex": null,
      "flex_flow": null,
      "grid_area": null,
      "grid_auto_columns": null,
      "grid_auto_flow": null,
      "grid_auto_rows": null,
      "grid_column": null,
      "grid_gap": null,
      "grid_row": null,
      "grid_template_areas": null,
      "grid_template_columns": null,
      "grid_template_rows": null,
      "height": null,
      "justify_content": null,
      "justify_items": null,
      "left": null,
      "margin": null,
      "max_height": null,
      "max_width": null,
      "min_height": null,
      "min_width": null,
      "object_fit": null,
      "object_position": null,
      "order": null,
      "overflow": null,
      "overflow_x": null,
      "overflow_y": null,
      "padding": null,
      "right": null,
      "top": null,
      "visibility": null,
      "width": null
     }
    },
    "bcc5dad4396c4e67a8dd78d24fc28639": {
     "model_module": "@jupyter-widgets/controls",
     "model_module_version": "1.5.0",
     "model_name": "HTMLModel",
     "state": {
      "_dom_classes": [],
      "_model_module": "@jupyter-widgets/controls",
      "_model_module_version": "1.5.0",
      "_model_name": "HTMLModel",
      "_view_count": null,
      "_view_module": "@jupyter-widgets/controls",
      "_view_module_version": "1.5.0",
      "_view_name": "HTMLView",
      "description": "",
      "description_tooltip": null,
      "layout": "IPY_MODEL_6fc5076822c54ce2a80d1ddc68ef7191",
      "placeholder": "​",
      "style": "IPY_MODEL_e3ce9c8543eb4c2e8a6c0817b4648b57",
      "value": "Precompute adv samples: 100%"
     }
    },
    "c5b77b9a321f4262a3795a87c10db3d7": {
     "model_module": "@jupyter-widgets/controls",
     "model_module_version": "1.5.0",
     "model_name": "HTMLModel",
     "state": {
      "_dom_classes": [],
      "_model_module": "@jupyter-widgets/controls",
      "_model_module_version": "1.5.0",
      "_model_name": "HTMLModel",
      "_view_count": null,
      "_view_module": "@jupyter-widgets/controls",
      "_view_module_version": "1.5.0",
      "_view_name": "HTMLView",
      "description": "",
      "description_tooltip": null,
      "layout": "IPY_MODEL_5e6fab007b5b4669a032f82acc9e68b5",
      "placeholder": "​",
      "style": "IPY_MODEL_462f542d93a04a0cb228da7fb73613de",
      "value": " 5/5 [00:24&lt;00:00,  4.75s/it]"
     }
    },
    "d082cef99a06430480209bcabc817727": {
     "model_module": "@jupyter-widgets/base",
     "model_module_version": "1.2.0",
     "model_name": "LayoutModel",
     "state": {
      "_model_module": "@jupyter-widgets/base",
      "_model_module_version": "1.2.0",
      "_model_name": "LayoutModel",
      "_view_count": null,
      "_view_module": "@jupyter-widgets/base",
      "_view_module_version": "1.2.0",
      "_view_name": "LayoutView",
      "align_content": null,
      "align_items": null,
      "align_self": null,
      "border": null,
      "bottom": null,
      "display": null,
      "flex": null,
      "flex_flow": null,
      "grid_area": null,
      "grid_auto_columns": null,
      "grid_auto_flow": null,
      "grid_auto_rows": null,
      "grid_column": null,
      "grid_gap": null,
      "grid_row": null,
      "grid_template_areas": null,
      "grid_template_columns": null,
      "grid_template_rows": null,
      "height": null,
      "justify_content": null,
      "justify_items": null,
      "left": null,
      "margin": null,
      "max_height": null,
      "max_width": null,
      "min_height": null,
      "min_width": null,
      "object_fit": null,
      "object_position": null,
      "order": null,
      "overflow": null,
      "overflow_x": null,
      "overflow_y": null,
      "padding": null,
      "right": null,
      "top": null,
      "visibility": null,
      "width": null
     }
    },
    "e3ce9c8543eb4c2e8a6c0817b4648b57": {
     "model_module": "@jupyter-widgets/controls",
     "model_module_version": "1.5.0",
     "model_name": "DescriptionStyleModel",
     "state": {
      "_model_module": "@jupyter-widgets/controls",
      "_model_module_version": "1.5.0",
      "_model_name": "DescriptionStyleModel",
      "_view_count": null,
      "_view_module": "@jupyter-widgets/base",
      "_view_module_version": "1.2.0",
      "_view_name": "StyleView",
      "description_width": ""
     }
    },
    "e6a6ba74f6d64fa28956ad11c54644ca": {
     "model_module": "@jupyter-widgets/controls",
     "model_module_version": "1.5.0",
     "model_name": "FloatProgressModel",
     "state": {
      "_dom_classes": [],
      "_model_module": "@jupyter-widgets/controls",
      "_model_module_version": "1.5.0",
      "_model_name": "FloatProgressModel",
      "_view_count": null,
      "_view_module": "@jupyter-widgets/controls",
      "_view_module_version": "1.5.0",
      "_view_name": "ProgressView",
      "bar_style": "success",
      "description": "",
      "description_tooltip": null,
      "layout": "IPY_MODEL_d082cef99a06430480209bcabc817727",
      "max": 5,
      "min": 0,
      "orientation": "horizontal",
      "style": "IPY_MODEL_0d572775930b4c4eb31cdd10dd351cd7",
      "value": 5
     }
    },
    "f8eb16dacf1448cabffb8a9c82455080": {
     "model_module": "@jupyter-widgets/controls",
     "model_module_version": "1.5.0",
     "model_name": "HBoxModel",
     "state": {
      "_dom_classes": [],
      "_model_module": "@jupyter-widgets/controls",
      "_model_module_version": "1.5.0",
      "_model_name": "HBoxModel",
      "_view_count": null,
      "_view_module": "@jupyter-widgets/controls",
      "_view_module_version": "1.5.0",
      "_view_name": "HBoxView",
      "box_style": "",
      "children": [
       "IPY_MODEL_bcc5dad4396c4e67a8dd78d24fc28639",
       "IPY_MODEL_4b08f87675314c41b577314e6380fc3f",
       "IPY_MODEL_6457293d5bf6470caaa3c5121215ac05"
      ],
      "layout": "IPY_MODEL_3513c13bbafe49219e1315ae41703055"
     }
    }
   }
  }
 },
 "nbformat": 4,
 "nbformat_minor": 5
}
